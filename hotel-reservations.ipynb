{
 "cells": [
  {
   "cell_type": "code",
   "execution_count": 1,
   "id": "34282f72",
   "metadata": {
    "_cell_guid": "9ec6371a-0f6c-41c3-bb38-45a89ee49ee6",
    "_uuid": "d43658e0-aea2-4789-be59-2fc80eed357c",
    "collapsed": false,
    "execution": {
     "iopub.execute_input": "2023-02-24T17:30:17.749339Z",
     "iopub.status.busy": "2023-02-24T17:30:17.748857Z",
     "iopub.status.idle": "2023-02-24T17:30:17.760617Z",
     "shell.execute_reply": "2023-02-24T17:30:17.759433Z"
    },
    "jupyter": {
     "outputs_hidden": false
    },
    "papermill": {
     "duration": 0.022027,
     "end_time": "2023-02-24T17:30:17.763184",
     "exception": false,
     "start_time": "2023-02-24T17:30:17.741157",
     "status": "completed"
    },
    "tags": []
   },
   "outputs": [],
   "source": [
    "import numpy as np \n",
    "import pandas as pd \n",
    "import matplotlib.pyplot as plt"
   ]
  },
  {
   "cell_type": "code",
   "execution_count": 2,
   "id": "47ba455a",
   "metadata": {
    "_cell_guid": "02037289-f206-4bc9-9f0e-4c0c2f04eaac",
    "_uuid": "2a626988-80cc-4d7a-af93-f8e9965f2237",
    "collapsed": false,
    "execution": {
     "iopub.execute_input": "2023-02-24T17:30:17.773704Z",
     "iopub.status.busy": "2023-02-24T17:30:17.773290Z",
     "iopub.status.idle": "2023-02-24T17:30:17.929138Z",
     "shell.execute_reply": "2023-02-24T17:30:17.927875Z"
    },
    "jupyter": {
     "outputs_hidden": false
    },
    "papermill": {
     "duration": 0.164179,
     "end_time": "2023-02-24T17:30:17.932060",
     "exception": false,
     "start_time": "2023-02-24T17:30:17.767881",
     "status": "completed"
    },
    "tags": []
   },
   "outputs": [],
   "source": [
    "dataset = pd.read_csv('/kaggle/input/hotel-reservations-classification-dataset/Hotel Reservations.csv')"
   ]
  },
  {
   "cell_type": "code",
   "execution_count": 3,
   "id": "929c241d",
   "metadata": {
    "_cell_guid": "ef798f74-8904-492a-8892-e3ddb922806d",
    "_uuid": "e0a16ec4-09ed-41e5-90fb-c8e833441fdb",
    "collapsed": false,
    "execution": {
     "iopub.execute_input": "2023-02-24T17:30:17.942703Z",
     "iopub.status.busy": "2023-02-24T17:30:17.942296Z",
     "iopub.status.idle": "2023-02-24T17:30:17.966603Z",
     "shell.execute_reply": "2023-02-24T17:30:17.965811Z"
    },
    "jupyter": {
     "outputs_hidden": false
    },
    "papermill": {
     "duration": 0.032852,
     "end_time": "2023-02-24T17:30:17.969469",
     "exception": false,
     "start_time": "2023-02-24T17:30:17.936617",
     "status": "completed"
    },
    "tags": []
   },
   "outputs": [
    {
     "data": {
      "text/html": [
       "<div>\n",
       "<style scoped>\n",
       "    .dataframe tbody tr th:only-of-type {\n",
       "        vertical-align: middle;\n",
       "    }\n",
       "\n",
       "    .dataframe tbody tr th {\n",
       "        vertical-align: top;\n",
       "    }\n",
       "\n",
       "    .dataframe thead th {\n",
       "        text-align: right;\n",
       "    }\n",
       "</style>\n",
       "<table border=\"1\" class=\"dataframe\">\n",
       "  <thead>\n",
       "    <tr style=\"text-align: right;\">\n",
       "      <th></th>\n",
       "      <th>Booking_ID</th>\n",
       "      <th>no_of_adults</th>\n",
       "      <th>no_of_children</th>\n",
       "      <th>no_of_weekend_nights</th>\n",
       "      <th>no_of_week_nights</th>\n",
       "      <th>type_of_meal_plan</th>\n",
       "      <th>required_car_parking_space</th>\n",
       "      <th>room_type_reserved</th>\n",
       "      <th>lead_time</th>\n",
       "      <th>arrival_year</th>\n",
       "      <th>arrival_month</th>\n",
       "      <th>arrival_date</th>\n",
       "      <th>market_segment_type</th>\n",
       "      <th>repeated_guest</th>\n",
       "      <th>no_of_previous_cancellations</th>\n",
       "      <th>no_of_previous_bookings_not_canceled</th>\n",
       "      <th>avg_price_per_room</th>\n",
       "      <th>no_of_special_requests</th>\n",
       "      <th>booking_status</th>\n",
       "    </tr>\n",
       "  </thead>\n",
       "  <tbody>\n",
       "    <tr>\n",
       "      <th>0</th>\n",
       "      <td>INN00001</td>\n",
       "      <td>2</td>\n",
       "      <td>0</td>\n",
       "      <td>1</td>\n",
       "      <td>2</td>\n",
       "      <td>Meal Plan 1</td>\n",
       "      <td>0</td>\n",
       "      <td>Room_Type 1</td>\n",
       "      <td>224</td>\n",
       "      <td>2017</td>\n",
       "      <td>10</td>\n",
       "      <td>2</td>\n",
       "      <td>Offline</td>\n",
       "      <td>0</td>\n",
       "      <td>0</td>\n",
       "      <td>0</td>\n",
       "      <td>65.00</td>\n",
       "      <td>0</td>\n",
       "      <td>Not_Canceled</td>\n",
       "    </tr>\n",
       "    <tr>\n",
       "      <th>1</th>\n",
       "      <td>INN00002</td>\n",
       "      <td>2</td>\n",
       "      <td>0</td>\n",
       "      <td>2</td>\n",
       "      <td>3</td>\n",
       "      <td>Not Selected</td>\n",
       "      <td>0</td>\n",
       "      <td>Room_Type 1</td>\n",
       "      <td>5</td>\n",
       "      <td>2018</td>\n",
       "      <td>11</td>\n",
       "      <td>6</td>\n",
       "      <td>Online</td>\n",
       "      <td>0</td>\n",
       "      <td>0</td>\n",
       "      <td>0</td>\n",
       "      <td>106.68</td>\n",
       "      <td>1</td>\n",
       "      <td>Not_Canceled</td>\n",
       "    </tr>\n",
       "    <tr>\n",
       "      <th>2</th>\n",
       "      <td>INN00003</td>\n",
       "      <td>1</td>\n",
       "      <td>0</td>\n",
       "      <td>2</td>\n",
       "      <td>1</td>\n",
       "      <td>Meal Plan 1</td>\n",
       "      <td>0</td>\n",
       "      <td>Room_Type 1</td>\n",
       "      <td>1</td>\n",
       "      <td>2018</td>\n",
       "      <td>2</td>\n",
       "      <td>28</td>\n",
       "      <td>Online</td>\n",
       "      <td>0</td>\n",
       "      <td>0</td>\n",
       "      <td>0</td>\n",
       "      <td>60.00</td>\n",
       "      <td>0</td>\n",
       "      <td>Canceled</td>\n",
       "    </tr>\n",
       "    <tr>\n",
       "      <th>3</th>\n",
       "      <td>INN00004</td>\n",
       "      <td>2</td>\n",
       "      <td>0</td>\n",
       "      <td>0</td>\n",
       "      <td>2</td>\n",
       "      <td>Meal Plan 1</td>\n",
       "      <td>0</td>\n",
       "      <td>Room_Type 1</td>\n",
       "      <td>211</td>\n",
       "      <td>2018</td>\n",
       "      <td>5</td>\n",
       "      <td>20</td>\n",
       "      <td>Online</td>\n",
       "      <td>0</td>\n",
       "      <td>0</td>\n",
       "      <td>0</td>\n",
       "      <td>100.00</td>\n",
       "      <td>0</td>\n",
       "      <td>Canceled</td>\n",
       "    </tr>\n",
       "    <tr>\n",
       "      <th>4</th>\n",
       "      <td>INN00005</td>\n",
       "      <td>2</td>\n",
       "      <td>0</td>\n",
       "      <td>1</td>\n",
       "      <td>1</td>\n",
       "      <td>Not Selected</td>\n",
       "      <td>0</td>\n",
       "      <td>Room_Type 1</td>\n",
       "      <td>48</td>\n",
       "      <td>2018</td>\n",
       "      <td>4</td>\n",
       "      <td>11</td>\n",
       "      <td>Online</td>\n",
       "      <td>0</td>\n",
       "      <td>0</td>\n",
       "      <td>0</td>\n",
       "      <td>94.50</td>\n",
       "      <td>0</td>\n",
       "      <td>Canceled</td>\n",
       "    </tr>\n",
       "  </tbody>\n",
       "</table>\n",
       "</div>"
      ],
      "text/plain": [
       "  Booking_ID  no_of_adults  no_of_children  no_of_weekend_nights  \\\n",
       "0   INN00001             2               0                     1   \n",
       "1   INN00002             2               0                     2   \n",
       "2   INN00003             1               0                     2   \n",
       "3   INN00004             2               0                     0   \n",
       "4   INN00005             2               0                     1   \n",
       "\n",
       "   no_of_week_nights type_of_meal_plan  required_car_parking_space  \\\n",
       "0                  2       Meal Plan 1                           0   \n",
       "1                  3      Not Selected                           0   \n",
       "2                  1       Meal Plan 1                           0   \n",
       "3                  2       Meal Plan 1                           0   \n",
       "4                  1      Not Selected                           0   \n",
       "\n",
       "  room_type_reserved  lead_time  arrival_year  arrival_month  arrival_date  \\\n",
       "0        Room_Type 1        224          2017             10             2   \n",
       "1        Room_Type 1          5          2018             11             6   \n",
       "2        Room_Type 1          1          2018              2            28   \n",
       "3        Room_Type 1        211          2018              5            20   \n",
       "4        Room_Type 1         48          2018              4            11   \n",
       "\n",
       "  market_segment_type  repeated_guest  no_of_previous_cancellations  \\\n",
       "0             Offline               0                             0   \n",
       "1              Online               0                             0   \n",
       "2              Online               0                             0   \n",
       "3              Online               0                             0   \n",
       "4              Online               0                             0   \n",
       "\n",
       "   no_of_previous_bookings_not_canceled  avg_price_per_room  \\\n",
       "0                                     0               65.00   \n",
       "1                                     0              106.68   \n",
       "2                                     0               60.00   \n",
       "3                                     0              100.00   \n",
       "4                                     0               94.50   \n",
       "\n",
       "   no_of_special_requests booking_status  \n",
       "0                       0   Not_Canceled  \n",
       "1                       1   Not_Canceled  \n",
       "2                       0       Canceled  \n",
       "3                       0       Canceled  \n",
       "4                       0       Canceled  "
      ]
     },
     "execution_count": 3,
     "metadata": {},
     "output_type": "execute_result"
    }
   ],
   "source": [
    "dataset.head()"
   ]
  },
  {
   "cell_type": "code",
   "execution_count": 4,
   "id": "832f6930",
   "metadata": {
    "_cell_guid": "912b59d6-31cc-4c43-a93c-063062e06d92",
    "_uuid": "9594b34a-911f-4c5f-bd83-399b674074c2",
    "collapsed": false,
    "execution": {
     "iopub.execute_input": "2023-02-24T17:30:17.981458Z",
     "iopub.status.busy": "2023-02-24T17:30:17.980457Z",
     "iopub.status.idle": "2023-02-24T17:30:18.015481Z",
     "shell.execute_reply": "2023-02-24T17:30:18.014212Z"
    },
    "jupyter": {
     "outputs_hidden": false
    },
    "papermill": {
     "duration": 0.043612,
     "end_time": "2023-02-24T17:30:18.018265",
     "exception": false,
     "start_time": "2023-02-24T17:30:17.974653",
     "status": "completed"
    },
    "tags": []
   },
   "outputs": [
    {
     "name": "stdout",
     "output_type": "stream",
     "text": [
      "<class 'pandas.core.frame.DataFrame'>\n",
      "RangeIndex: 36275 entries, 0 to 36274\n",
      "Data columns (total 19 columns):\n",
      " #   Column                                Non-Null Count  Dtype  \n",
      "---  ------                                --------------  -----  \n",
      " 0   Booking_ID                            36275 non-null  object \n",
      " 1   no_of_adults                          36275 non-null  int64  \n",
      " 2   no_of_children                        36275 non-null  int64  \n",
      " 3   no_of_weekend_nights                  36275 non-null  int64  \n",
      " 4   no_of_week_nights                     36275 non-null  int64  \n",
      " 5   type_of_meal_plan                     36275 non-null  object \n",
      " 6   required_car_parking_space            36275 non-null  int64  \n",
      " 7   room_type_reserved                    36275 non-null  object \n",
      " 8   lead_time                             36275 non-null  int64  \n",
      " 9   arrival_year                          36275 non-null  int64  \n",
      " 10  arrival_month                         36275 non-null  int64  \n",
      " 11  arrival_date                          36275 non-null  int64  \n",
      " 12  market_segment_type                   36275 non-null  object \n",
      " 13  repeated_guest                        36275 non-null  int64  \n",
      " 14  no_of_previous_cancellations          36275 non-null  int64  \n",
      " 15  no_of_previous_bookings_not_canceled  36275 non-null  int64  \n",
      " 16  avg_price_per_room                    36275 non-null  float64\n",
      " 17  no_of_special_requests                36275 non-null  int64  \n",
      " 18  booking_status                        36275 non-null  object \n",
      "dtypes: float64(1), int64(13), object(5)\n",
      "memory usage: 5.3+ MB\n"
     ]
    }
   ],
   "source": [
    "dataset.info()"
   ]
  },
  {
   "cell_type": "code",
   "execution_count": 5,
   "id": "d192cf9c",
   "metadata": {
    "_cell_guid": "d7a542b8-d916-4dc5-83bb-7fff85b0bff6",
    "_uuid": "624c9df4-40b2-4c69-bd99-ee1bd8027716",
    "collapsed": false,
    "execution": {
     "iopub.execute_input": "2023-02-24T17:30:18.029783Z",
     "iopub.status.busy": "2023-02-24T17:30:18.029422Z",
     "iopub.status.idle": "2023-02-24T17:30:18.039735Z",
     "shell.execute_reply": "2023-02-24T17:30:18.038677Z"
    },
    "jupyter": {
     "outputs_hidden": false
    },
    "papermill": {
     "duration": 0.019328,
     "end_time": "2023-02-24T17:30:18.042718",
     "exception": false,
     "start_time": "2023-02-24T17:30:18.023390",
     "status": "completed"
    },
    "tags": []
   },
   "outputs": [
    {
     "name": "stdout",
     "output_type": "stream",
     "text": [
      "11885\n",
      "24390\n"
     ]
    }
   ],
   "source": [
    "print(dataset['booking_status'].value_counts()['Canceled'])\n",
    "print(dataset['booking_status'].value_counts()['Not_Canceled'])"
   ]
  },
  {
   "cell_type": "code",
   "execution_count": 6,
   "id": "fff114d1",
   "metadata": {
    "_cell_guid": "581b3fdc-4ae2-4db3-a484-1b9fd3a1b5d6",
    "_uuid": "d762c8ed-e751-499b-b831-d151d102cad6",
    "collapsed": false,
    "execution": {
     "iopub.execute_input": "2023-02-24T17:30:18.053638Z",
     "iopub.status.busy": "2023-02-24T17:30:18.053281Z",
     "iopub.status.idle": "2023-02-24T17:30:18.082158Z",
     "shell.execute_reply": "2023-02-24T17:30:18.080995Z"
    },
    "jupyter": {
     "outputs_hidden": false
    },
    "papermill": {
     "duration": 0.03744,
     "end_time": "2023-02-24T17:30:18.084927",
     "exception": false,
     "start_time": "2023-02-24T17:30:18.047487",
     "status": "completed"
    },
    "tags": []
   },
   "outputs": [],
   "source": [
    "X = dataset.iloc[:,1:-1].values\n",
    "y = dataset.iloc[:,-1].values"
   ]
  },
  {
   "cell_type": "code",
   "execution_count": 7,
   "id": "d56c94e7",
   "metadata": {
    "_cell_guid": "854b8006-9f6d-4155-95a3-71fe54f2c781",
    "_uuid": "900854b2-6678-4970-9e1d-0543c713a9be",
    "collapsed": false,
    "execution": {
     "iopub.execute_input": "2023-02-24T17:30:18.100490Z",
     "iopub.status.busy": "2023-02-24T17:30:18.100078Z",
     "iopub.status.idle": "2023-02-24T17:30:18.107066Z",
     "shell.execute_reply": "2023-02-24T17:30:18.105649Z"
    },
    "jupyter": {
     "outputs_hidden": false
    },
    "papermill": {
     "duration": 0.019568,
     "end_time": "2023-02-24T17:30:18.109967",
     "exception": false,
     "start_time": "2023-02-24T17:30:18.090399",
     "status": "completed"
    },
    "tags": []
   },
   "outputs": [
    {
     "name": "stdout",
     "output_type": "stream",
     "text": [
      "[[2 0 1 ... 0 65.0 0]\n",
      " [2 0 2 ... 0 106.68 1]\n",
      " [1 0 2 ... 0 60.0 0]\n",
      " ...\n",
      " [2 0 2 ... 0 98.39 2]\n",
      " [2 0 0 ... 0 94.5 0]\n",
      " [2 0 1 ... 0 161.67 0]]\n"
     ]
    }
   ],
   "source": [
    "print(X)"
   ]
  },
  {
   "cell_type": "code",
   "execution_count": 8,
   "id": "98857d3c",
   "metadata": {
    "_cell_guid": "44ddae0c-b755-4927-bf43-ebaa7cc6988a",
    "_uuid": "74a2f1af-f362-415f-8c12-b6f2e9dc6d1a",
    "collapsed": false,
    "execution": {
     "iopub.execute_input": "2023-02-24T17:30:18.123818Z",
     "iopub.status.busy": "2023-02-24T17:30:18.123457Z",
     "iopub.status.idle": "2023-02-24T17:30:19.255384Z",
     "shell.execute_reply": "2023-02-24T17:30:19.254376Z"
    },
    "jupyter": {
     "outputs_hidden": false
    },
    "papermill": {
     "duration": 1.142041,
     "end_time": "2023-02-24T17:30:19.258236",
     "exception": false,
     "start_time": "2023-02-24T17:30:18.116195",
     "status": "completed"
    },
    "tags": []
   },
   "outputs": [],
   "source": [
    "from sklearn.preprocessing import OneHotEncoder,LabelEncoder\n",
    "from sklearn.compose import ColumnTransformer\n",
    "\n",
    "ct= ColumnTransformer(transformers=[('encoder',OneHotEncoder(),[4,6,11])],remainder='passthrough')\n",
    "X = np.array(ct.fit_transform(X))\n",
    "\n",
    "le= LabelEncoder()\n",
    "y = le.fit_transform(y)"
   ]
  },
  {
   "cell_type": "code",
   "execution_count": 9,
   "id": "e92d075e",
   "metadata": {
    "_cell_guid": "1ce6ddfa-ee5f-4d7f-b8a7-5829199d813c",
    "_uuid": "ee816155-b38e-4438-8e0d-438b615bd45b",
    "collapsed": false,
    "execution": {
     "iopub.execute_input": "2023-02-24T17:30:19.269980Z",
     "iopub.status.busy": "2023-02-24T17:30:19.269608Z",
     "iopub.status.idle": "2023-02-24T17:30:19.359151Z",
     "shell.execute_reply": "2023-02-24T17:30:19.358181Z"
    },
    "jupyter": {
     "outputs_hidden": false
    },
    "papermill": {
     "duration": 0.098724,
     "end_time": "2023-02-24T17:30:19.362205",
     "exception": false,
     "start_time": "2023-02-24T17:30:19.263481",
     "status": "completed"
    },
    "tags": []
   },
   "outputs": [],
   "source": [
    "from sklearn.model_selection import train_test_split\n",
    "X_train, X_test, y_train, y_test = train_test_split(X, y, test_size = 0.25, random_state = 0)"
   ]
  },
  {
   "cell_type": "code",
   "execution_count": 10,
   "id": "f68ff48a",
   "metadata": {
    "_cell_guid": "2105809e-7af7-4dcf-8a04-6148fc5db848",
    "_uuid": "cce89742-b272-4af9-8604-7ef71f744746",
    "collapsed": false,
    "execution": {
     "iopub.execute_input": "2023-02-24T17:30:19.374174Z",
     "iopub.status.busy": "2023-02-24T17:30:19.373785Z",
     "iopub.status.idle": "2023-02-24T17:30:19.510261Z",
     "shell.execute_reply": "2023-02-24T17:30:19.508915Z"
    },
    "jupyter": {
     "outputs_hidden": false
    },
    "papermill": {
     "duration": 0.145655,
     "end_time": "2023-02-24T17:30:19.513272",
     "exception": false,
     "start_time": "2023-02-24T17:30:19.367617",
     "status": "completed"
    },
    "tags": []
   },
   "outputs": [],
   "source": [
    "from sklearn.preprocessing import StandardScaler\n",
    "\n",
    "sc = StandardScaler()\n",
    "X_train = sc.fit_transform(X_train)\n",
    "X_test= sc.transform(X_test)"
   ]
  },
  {
   "cell_type": "code",
   "execution_count": 11,
   "id": "ccca68e2",
   "metadata": {
    "_cell_guid": "60f8d790-1cd6-429d-ba60-a1fe48b17596",
    "_uuid": "b9dc92b4-359b-44fd-8fe9-f42a118d21cb",
    "collapsed": false,
    "execution": {
     "iopub.execute_input": "2023-02-24T17:30:19.525232Z",
     "iopub.status.busy": "2023-02-24T17:30:19.524839Z",
     "iopub.status.idle": "2023-02-24T17:30:23.204762Z",
     "shell.execute_reply": "2023-02-24T17:30:23.203094Z"
    },
    "jupyter": {
     "outputs_hidden": false
    },
    "papermill": {
     "duration": 3.689068,
     "end_time": "2023-02-24T17:30:23.207611",
     "exception": false,
     "start_time": "2023-02-24T17:30:19.518543",
     "status": "completed"
    },
    "tags": []
   },
   "outputs": [
    {
     "data": {
      "text/plain": [
       "RandomForestClassifier(criterion='entropy')"
      ]
     },
     "execution_count": 11,
     "metadata": {},
     "output_type": "execute_result"
    }
   ],
   "source": [
    "from sklearn.ensemble import RandomForestClassifier\n",
    "classifier = RandomForestClassifier(n_estimators = 100, criterion = 'entropy')\n",
    "classifier.fit(X_train, y_train)"
   ]
  },
  {
   "cell_type": "code",
   "execution_count": 12,
   "id": "4467541b",
   "metadata": {
    "_cell_guid": "65bde99b-846b-4a00-a85b-63586b36e046",
    "_uuid": "796a61f7-39c5-4d39-88c0-c3c59fd9a09a",
    "collapsed": false,
    "execution": {
     "iopub.execute_input": "2023-02-24T17:30:23.221367Z",
     "iopub.status.busy": "2023-02-24T17:30:23.220589Z",
     "iopub.status.idle": "2023-02-24T17:30:23.464771Z",
     "shell.execute_reply": "2023-02-24T17:30:23.462697Z"
    },
    "jupyter": {
     "outputs_hidden": false
    },
    "papermill": {
     "duration": 0.25421,
     "end_time": "2023-02-24T17:30:23.467745",
     "exception": false,
     "start_time": "2023-02-24T17:30:23.213535",
     "status": "completed"
    },
    "tags": []
   },
   "outputs": [],
   "source": [
    "y_pred = classifier.predict(X_test)"
   ]
  },
  {
   "cell_type": "code",
   "execution_count": 13,
   "id": "a4447a01",
   "metadata": {
    "_cell_guid": "77cbd7c7-8f22-4ec0-9003-3aa1877a39eb",
    "_uuid": "9ef801cc-eea7-4829-9b95-7549f0a9f8b6",
    "collapsed": false,
    "execution": {
     "iopub.execute_input": "2023-02-24T17:30:23.481142Z",
     "iopub.status.busy": "2023-02-24T17:30:23.480577Z",
     "iopub.status.idle": "2023-02-24T17:30:23.492581Z",
     "shell.execute_reply": "2023-02-24T17:30:23.491755Z"
    },
    "jupyter": {
     "outputs_hidden": false
    },
    "papermill": {
     "duration": 0.021874,
     "end_time": "2023-02-24T17:30:23.495525",
     "exception": false,
     "start_time": "2023-02-24T17:30:23.473651",
     "status": "completed"
    },
    "tags": []
   },
   "outputs": [
    {
     "name": "stdout",
     "output_type": "stream",
     "text": [
      "[[2404  603]\n",
      " [ 313 5749]]\n"
     ]
    },
    {
     "data": {
      "text/plain": [
       "0.8989965817620466"
      ]
     },
     "execution_count": 13,
     "metadata": {},
     "output_type": "execute_result"
    }
   ],
   "source": [
    "from sklearn.metrics import confusion_matrix, accuracy_score\n",
    "cm = confusion_matrix(y_test, y_pred)\n",
    "print(cm)\n",
    "accuracy_score(y_test, y_pred)"
   ]
  }
 ],
 "metadata": {
  "kernelspec": {
   "display_name": "Python 3",
   "language": "python",
   "name": "python3"
  },
  "language_info": {
   "codemirror_mode": {
    "name": "ipython",
    "version": 3
   },
   "file_extension": ".py",
   "mimetype": "text/x-python",
   "name": "python",
   "nbconvert_exporter": "python",
   "pygments_lexer": "ipython3",
   "version": "3.7.12"
  },
  "papermill": {
   "default_parameters": {},
   "duration": 16.041114,
   "end_time": "2023-02-24T17:30:24.323128",
   "environment_variables": {},
   "exception": null,
   "input_path": "__notebook__.ipynb",
   "output_path": "__notebook__.ipynb",
   "parameters": {},
   "start_time": "2023-02-24T17:30:08.282014",
   "version": "2.3.4"
  }
 },
 "nbformat": 4,
 "nbformat_minor": 5
}
